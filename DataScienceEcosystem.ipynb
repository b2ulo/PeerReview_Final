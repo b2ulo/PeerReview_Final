{
 "cells": [
  {
   "cell_type": "markdown",
   "id": "00a3f46d-c922-4631-be65-c653505e6c15",
   "metadata": {},
   "source": [
    "# Data Science Tools and Ecosystem"
   ]
  },
  {
   "cell_type": "markdown",
   "id": "110ff08b-b489-4cc0-bba9-fcfff20daf0d",
   "metadata": {},
   "source": [
    "In this notebook, Data Science Tools and Ecosystem are summarized."
   ]
  },
  {
   "cell_type": "markdown",
   "id": "1696408b-72c6-43cd-b818-0dca49deb6a8",
   "metadata": {},
   "source": [
    "Some of the popular languages that Data Scientists use are: \n",
    "1. Python\n",
    "2. R\n",
    "3. C++\n",
    "4. Scala\n",
    "5. Julia"
   ]
  },
  {
   "cell_type": "markdown",
   "id": "40097010-17a4-4b01-ad26-f60fe73a886b",
   "metadata": {},
   "source": [
    "Some of the commonly used libraries used by Data Scientists include:\n",
    "1. Pandas\n",
    "2. NumPy\n",
    "3. Apache Spark\n",
    "4. Matplotlib\n",
    "5. Seaborn\n",
    "6. Scikit-learn\n",
    "7. Keras\n",
    "8. TensorFlow\n",
    "9. PyTorch\n",
    "10. ggplot\n",
    "11. Vegas\n",
    "12. Big DL"
   ]
  },
  {
   "cell_type": "markdown",
   "id": "d6dbe6d2-9e5a-42d6-b577-fd0e2ffeeb17",
   "metadata": {},
   "source": [
    "|Data Science Tools|\n",
    "|---|\n",
    "|Jupyter|\n",
    "|Apache Zeppelin|\n",
    "|RStudio|"
   ]
  },
  {
   "cell_type": "markdown",
   "id": "8ede3ee6-f0ab-4034-a19d-a547865f7ada",
   "metadata": {},
   "source": [
    "### Below are a few examples of evaluating arithmetic expressions in Python"
   ]
  },
  {
   "cell_type": "code",
   "execution_count": 4,
   "id": "292f1eeb-b7e7-458e-841f-b6650232264e",
   "metadata": {},
   "outputs": [
    {
     "data": {
      "text/plain": [
       "17"
      ]
     },
     "execution_count": 4,
     "metadata": {},
     "output_type": "execute_result"
    }
   ],
   "source": [
    " #This is a simple arithmetic expression to mutiply then add integers\n",
    " (3*4)+5"
   ]
  },
  {
   "cell_type": "code",
   "execution_count": 6,
   "id": "495f40cf-b27b-4d22-8bbd-9a5de0098b49",
   "metadata": {},
   "outputs": [
    {
     "data": {
      "text/plain": [
       "3.3333333333333335"
      ]
     },
     "execution_count": 6,
     "metadata": {},
     "output_type": "execute_result"
    }
   ],
   "source": [
    "#This will convert 200 minutes to hours by diving by 60\n",
    "200/60"
   ]
  },
  {
   "cell_type": "markdown",
   "id": "36b51fcb-d81a-4e59-b0cb-c26326bf93bd",
   "metadata": {},
   "source": [
    "**Objectives:**\n",
    "* List popular languages for Data Science\n",
    "* List commonly used libraries for Data Science\n",
    "* List Three Development Environment Open Source Tools\n"
   ]
  },
  {
   "cell_type": "markdown",
   "id": "9263a622-0adf-4992-9423-50cabd12789a",
   "metadata": {},
   "source": [
    "## Author: \n",
    "Briana T."
   ]
  },
  {
   "cell_type": "code",
   "execution_count": null,
   "id": "b5613e11-6efc-4a99-82a2-36c4440a1ba0",
   "metadata": {},
   "outputs": [],
   "source": []
  }
 ],
 "metadata": {
  "kernelspec": {
   "display_name": "Python 3 (ipykernel)",
   "language": "python",
   "name": "python3"
  },
  "language_info": {
   "codemirror_mode": {
    "name": "ipython",
    "version": 3
   },
   "file_extension": ".py",
   "mimetype": "text/x-python",
   "name": "python",
   "nbconvert_exporter": "python",
   "pygments_lexer": "ipython3",
   "version": "3.12.4"
  }
 },
 "nbformat": 4,
 "nbformat_minor": 5
}
